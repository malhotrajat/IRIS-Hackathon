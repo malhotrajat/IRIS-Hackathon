{
 "cells": [
  {
   "cell_type": "markdown",
   "metadata": {},
   "source": [
    "# IRIS Online Review Prediction Model\n",
    "The task of this hackathon challenge is to create a predictive model to classify online electronics reviews into five categories, ranking from 1 (lowest) to 5 (highest). Both train sets and test sets are provided. We recommend the following guidelines in preparing the data set, training/testing the model, and applying it to the final test set. \n",
    "\n",
    "1. Resampling the dataset into more balanced dataset due to the nature of online reviews.\n",
    "2. Feature engineering - cleansing and expanding the data set into a set of features that text mining algorithms expect.\n",
    "3. Testing the model by cross validation.\n",
    "4. Apply the model to a test set and report the results for scoring.\n",
    "\n",
    "This document aims at explaing step by step the concepts and procedures in the making of the predictive model."
   ]
  },
  {
   "cell_type": "markdown",
   "metadata": {},
   "source": [
    "## Reading in the data"
   ]
  },
  {
   "cell_type": "code",
   "execution_count": 193,
   "metadata": {},
   "outputs": [],
   "source": [
    "import pandas as pd\n",
    "import numpy as np\n",
    "import matplotlib.mlab as mlab\n",
    "import matplotlib.pyplot as plt"
   ]
  },
  {
   "cell_type": "markdown",
   "metadata": {},
   "source": [
    "To read the entire training set into memory and train the model based on all of it has two major downsides:\n",
    "1. The sheer volume (1.6 million rows) of the data would incur high computational cost. Given the time constraint in the hackathon, such computational load is inhibitive.\n",
    "2. The data set is unbalanced by nature. Most reviews collected are positive (4-5), while neutral and below (1-3) are much rarer. Training the model on such data set will likely lead to biased prediction. The histogram shows the unbalanced nature of the dataset."
   ]
  },
  {
   "cell_type": "code",
   "execution_count": 194,
   "metadata": {
    "scrolled": true
   },
   "outputs": [
    {
     "data": {
      "image/png": "[encoded data removed]",
      "text/plain": [
       "<Figure size 432x288 with 1 Axes>"
      ]
     },
     "metadata": {
      "needs_background": "light"
     },
     "output_type": "display_data"
    }
   ],
   "source": [
    "%matplotlib inline\n",
    "train = pd.read_csv('train.csv')\n",
    "train = train.loc[1:10000,:]\n",
    "num_bins = 5\n",
    "n, bins, patches = plt.hist(train['Rating'], num_bins, facecolor='blue', alpha=0.5)\n",
    "plt.show()"
   ]
  },
  {
   "cell_type": "code",
   "execution_count": null,
   "metadata": {},
   "outputs": [],
   "source": [
    "# Resampling code goes here"
   ]
  },
  {
   "cell_type": "markdown",
   "metadata": {},
   "source": [
    "We start by counting the number of words and number of characters in each reviews, as well as the average length of words. These three new features are appended to the training data set as new features. The techniques are self-explanatory in the code below."
   ]
  },
  {
   "cell_type": "code",
   "execution_count": 168,
   "metadata": {},
   "outputs": [
    {
     "data": {
      "text/html": [
       "<div>\n",
       "<style scoped>\n",
       "    .dataframe tbody tr th:only-of-type {\n",
       "        vertical-align: middle;\n",
       "    }\n",
       "\n",
       "    .dataframe tbody tr th {\n",
       "        vertical-align: top;\n",
       "    }\n",
       "\n",
       "    .dataframe thead th {\n",
       "        text-align: right;\n",
       "    }\n",
       "</style>\n",
       "<table border=\"1\" class=\"dataframe\">\n",
       "  <thead>\n",
       "    <tr style=\"text-align: right;\">\n",
       "      <th></th>\n",
       "      <th>ReviewText</th>\n",
       "      <th>word_count</th>\n",
       "    </tr>\n",
       "  </thead>\n",
       "  <tbody>\n",
       "    <tr>\n",
       "      <th>1</th>\n",
       "      <td>I'm a professional OTR truck driver, and I bou...</td>\n",
       "      <td>446</td>\n",
       "    </tr>\n",
       "    <tr>\n",
       "      <th>2</th>\n",
       "      <td>Well, what can I say.  I've had this unit in m...</td>\n",
       "      <td>888</td>\n",
       "    </tr>\n",
       "    <tr>\n",
       "      <th>3</th>\n",
       "      <td>Not going to write a long review, even thought...</td>\n",
       "      <td>449</td>\n",
       "    </tr>\n",
       "    <tr>\n",
       "      <th>4</th>\n",
       "      <td>I've had mine for a year and here's what we go...</td>\n",
       "      <td>202</td>\n",
       "    </tr>\n",
       "    <tr>\n",
       "      <th>5</th>\n",
       "      <td>I am using this with a Nook HD+. It works as d...</td>\n",
       "      <td>22</td>\n",
       "    </tr>\n",
       "  </tbody>\n",
       "</table>\n",
       "</div>"
      ],
      "text/plain": [
       "                                          ReviewText  word_count\n",
       "1  I'm a professional OTR truck driver, and I bou...         446\n",
       "2  Well, what can I say.  I've had this unit in m...         888\n",
       "3  Not going to write a long review, even thought...         449\n",
       "4  I've had mine for a year and here's what we go...         202\n",
       "5  I am using this with a Nook HD+. It works as d...          22"
      ]
     },
     "execution_count": 168,
     "metadata": {},
     "output_type": "execute_result"
    }
   ],
   "source": [
    "train['word_count'] = train['ReviewText'].apply(lambda x: len(str(x).split(\" \")))\n",
    "train[['ReviewText','word_count']].head()"
   ]
  },
  {
   "cell_type": "markdown",
   "metadata": {},
   "source": [
    "### Number of characters"
   ]
  },
  {
   "cell_type": "code",
   "execution_count": 169,
   "metadata": {},
   "outputs": [
    {
     "data": {
      "text/html": [
       "<div>\n",
       "<style scoped>\n",
       "    .dataframe tbody tr th:only-of-type {\n",
       "        vertical-align: middle;\n",
       "    }\n",
       "\n",
       "    .dataframe tbody tr th {\n",
       "        vertical-align: top;\n",
       "    }\n",
       "\n",
       "    .dataframe thead th {\n",
       "        text-align: right;\n",
       "    }\n",
       "</style>\n",
       "<table border=\"1\" class=\"dataframe\">\n",
       "  <thead>\n",
       "    <tr style=\"text-align: right;\">\n",
       "      <th></th>\n",
       "      <th>ReviewText</th>\n",
       "      <th>char_count</th>\n",
       "    </tr>\n",
       "  </thead>\n",
       "  <tbody>\n",
       "    <tr>\n",
       "      <th>1</th>\n",
       "      <td>I'm a professional OTR truck driver, and I bou...</td>\n",
       "      <td>2175.0</td>\n",
       "    </tr>\n",
       "    <tr>\n",
       "      <th>2</th>\n",
       "      <td>Well, what can I say.  I've had this unit in m...</td>\n",
       "      <td>4607.0</td>\n",
       "    </tr>\n",
       "    <tr>\n",
       "      <th>3</th>\n",
       "      <td>Not going to write a long review, even thought...</td>\n",
       "      <td>2246.0</td>\n",
       "    </tr>\n",
       "    <tr>\n",
       "      <th>4</th>\n",
       "      <td>I've had mine for a year and here's what we go...</td>\n",
       "      <td>1076.0</td>\n",
       "    </tr>\n",
       "    <tr>\n",
       "      <th>5</th>\n",
       "      <td>I am using this with a Nook HD+. It works as d...</td>\n",
       "      <td>109.0</td>\n",
       "    </tr>\n",
       "  </tbody>\n",
       "</table>\n",
       "</div>"
      ],
      "text/plain": [
       "                                          ReviewText  char_count\n",
       "1  I'm a professional OTR truck driver, and I bou...      2175.0\n",
       "2  Well, what can I say.  I've had this unit in m...      4607.0\n",
       "3  Not going to write a long review, even thought...      2246.0\n",
       "4  I've had mine for a year and here's what we go...      1076.0\n",
       "5  I am using this with a Nook HD+. It works as d...       109.0"
      ]
     },
     "execution_count": 169,
     "metadata": {},
     "output_type": "execute_result"
    }
   ],
   "source": [
    "train['char_count'] = train['ReviewText'].str.len() ## this also includes spaces\n",
    "train[['ReviewText','char_count']].head()"
   ]
  },
  {
   "cell_type": "markdown",
   "metadata": {},
   "source": [
    "### Average Word Length"
   ]
  },
  {
   "cell_type": "code",
   "execution_count": 170,
   "metadata": {},
   "outputs": [
    {
     "data": {
      "text/html": [
       "<div>\n",
       "<style scoped>\n",
       "    .dataframe tbody tr th:only-of-type {\n",
       "        vertical-align: middle;\n",
       "    }\n",
       "\n",
       "    .dataframe tbody tr th {\n",
       "        vertical-align: top;\n",
       "    }\n",
       "\n",
       "    .dataframe thead th {\n",
       "        text-align: right;\n",
       "    }\n",
       "</style>\n",
       "<table border=\"1\" class=\"dataframe\">\n",
       "  <thead>\n",
       "    <tr style=\"text-align: right;\">\n",
       "      <th></th>\n",
       "      <th>ReviewText</th>\n",
       "      <th>avg_word</th>\n",
       "    </tr>\n",
       "  </thead>\n",
       "  <tbody>\n",
       "    <tr>\n",
       "      <th>1</th>\n",
       "      <td>I'm a professional OTR truck driver, and I bou...</td>\n",
       "      <td>4.051522</td>\n",
       "    </tr>\n",
       "    <tr>\n",
       "      <th>2</th>\n",
       "      <td>Well, what can I say.  I've had this unit in m...</td>\n",
       "      <td>4.397163</td>\n",
       "    </tr>\n",
       "    <tr>\n",
       "      <th>3</th>\n",
       "      <td>Not going to write a long review, even thought...</td>\n",
       "      <td>4.004454</td>\n",
       "    </tr>\n",
       "    <tr>\n",
       "      <th>4</th>\n",
       "      <td>I've had mine for a year and here's what we go...</td>\n",
       "      <td>4.331683</td>\n",
       "    </tr>\n",
       "    <tr>\n",
       "      <th>5</th>\n",
       "      <td>I am using this with a Nook HD+. It works as d...</td>\n",
       "      <td>4.000000</td>\n",
       "    </tr>\n",
       "  </tbody>\n",
       "</table>\n",
       "</div>"
      ],
      "text/plain": [
       "                                          ReviewText  avg_word\n",
       "1  I'm a professional OTR truck driver, and I bou...  4.051522\n",
       "2  Well, what can I say.  I've had this unit in m...  4.397163\n",
       "3  Not going to write a long review, even thought...  4.004454\n",
       "4  I've had mine for a year and here's what we go...  4.331683\n",
       "5  I am using this with a Nook HD+. It works as d...  4.000000"
      ]
     },
     "execution_count": 170,
     "metadata": {},
     "output_type": "execute_result"
    }
   ],
   "source": [
    "def avg_word(sentence):\n",
    "  #print(sentence)\n",
    "  sentence = str(sentence)\n",
    "  words = sentence.split()\n",
    "  return (sum(len(word) for word in words)/len(words))\n",
    "\n",
    "train['avg_word'] = train['ReviewText'].apply(lambda x: avg_word(x))\n",
    "train[['ReviewText','avg_word']].head()"
   ]
  },
  {
   "cell_type": "markdown",
   "metadata": {},
   "source": [
    "Number of Stop Words"
   ]
  },
  {
   "cell_type": "markdown",
   "metadata": {},
   "source": [
    "One of the major forms of pre-processing is to filter out useless data. In natural language processing, useless words (data), are referred to as stop words. A stop word is a commonly used word (such as “the”, “a”, “an”, “in”). The algorithm below identifies such words in English and count the number of occurences in each review."
   ]
  },
  {
   "cell_type": "code",
   "execution_count": 171,
   "metadata": {},
   "outputs": [
    {
     "data": {
      "text/html": [
       "<div>\n",
       "<style scoped>\n",
       "    .dataframe tbody tr th:only-of-type {\n",
       "        vertical-align: middle;\n",
       "    }\n",
       "\n",
       "    .dataframe tbody tr th {\n",
       "        vertical-align: top;\n",
       "    }\n",
       "\n",
       "    .dataframe thead th {\n",
       "        text-align: right;\n",
       "    }\n",
       "</style>\n",
       "<table border=\"1\" class=\"dataframe\">\n",
       "  <thead>\n",
       "    <tr style=\"text-align: right;\">\n",
       "      <th></th>\n",
       "      <th>ReviewText</th>\n",
       "      <th>stopwords</th>\n",
       "    </tr>\n",
       "  </thead>\n",
       "  <tbody>\n",
       "    <tr>\n",
       "      <th>1</th>\n",
       "      <td>I'm a professional OTR truck driver, and I bou...</td>\n",
       "      <td>177</td>\n",
       "    </tr>\n",
       "    <tr>\n",
       "      <th>2</th>\n",
       "      <td>Well, what can I say.  I've had this unit in m...</td>\n",
       "      <td>362</td>\n",
       "    </tr>\n",
       "    <tr>\n",
       "      <th>3</th>\n",
       "      <td>Not going to write a long review, even thought...</td>\n",
       "      <td>196</td>\n",
       "    </tr>\n",
       "    <tr>\n",
       "      <th>4</th>\n",
       "      <td>I've had mine for a year and here's what we go...</td>\n",
       "      <td>86</td>\n",
       "    </tr>\n",
       "    <tr>\n",
       "      <th>5</th>\n",
       "      <td>I am using this with a Nook HD+. It works as d...</td>\n",
       "      <td>8</td>\n",
       "    </tr>\n",
       "  </tbody>\n",
       "</table>\n",
       "</div>"
      ],
      "text/plain": [
       "                                          ReviewText  stopwords\n",
       "1  I'm a professional OTR truck driver, and I bou...        177\n",
       "2  Well, what can I say.  I've had this unit in m...        362\n",
       "3  Not going to write a long review, even thought...        196\n",
       "4  I've had mine for a year and here's what we go...         86\n",
       "5  I am using this with a Nook HD+. It works as d...          8"
      ]
     },
     "execution_count": 171,
     "metadata": {},
     "output_type": "execute_result"
    }
   ],
   "source": [
    "import nltk\n",
    "from nltk.corpus import stopwords\n",
    "from nltk.tokenize import word_tokenize\n",
    "# nltk.download('stopwords')\n",
    "stop_words = set(stopwords.words('english'))\n",
    "#print(train['ReviewText'])\n",
    "#train['ReviewText',:] = str(train['ReviewText',:])\n",
    "\n",
    "train['stopwords'] = train['ReviewText'].apply(lambda x: len([x for x in str(x).split() if x in stop_words]))\n",
    "train[['ReviewText','stopwords']].head()"
   ]
  },
  {
   "cell_type": "markdown",
   "metadata": {},
   "source": [
    "Number of Special Characters"
   ]
  },
  {
   "cell_type": "code",
   "execution_count": 172,
   "metadata": {},
   "outputs": [
    {
     "data": {
      "text/html": [
       "<div>\n",
       "<style scoped>\n",
       "    .dataframe tbody tr th:only-of-type {\n",
       "        vertical-align: middle;\n",
       "    }\n",
       "\n",
       "    .dataframe tbody tr th {\n",
       "        vertical-align: top;\n",
       "    }\n",
       "\n",
       "    .dataframe thead th {\n",
       "        text-align: right;\n",
       "    }\n",
       "</style>\n",
       "<table border=\"1\" class=\"dataframe\">\n",
       "  <thead>\n",
       "    <tr style=\"text-align: right;\">\n",
       "      <th></th>\n",
       "      <th>ReviewText</th>\n",
       "      <th>hastags</th>\n",
       "    </tr>\n",
       "  </thead>\n",
       "  <tbody>\n",
       "    <tr>\n",
       "      <th>1</th>\n",
       "      <td>I'm a professional OTR truck driver, and I bou...</td>\n",
       "      <td>0</td>\n",
       "    </tr>\n",
       "    <tr>\n",
       "      <th>2</th>\n",
       "      <td>Well, what can I say.  I've had this unit in m...</td>\n",
       "      <td>0</td>\n",
       "    </tr>\n",
       "    <tr>\n",
       "      <th>3</th>\n",
       "      <td>Not going to write a long review, even thought...</td>\n",
       "      <td>0</td>\n",
       "    </tr>\n",
       "    <tr>\n",
       "      <th>4</th>\n",
       "      <td>I've had mine for a year and here's what we go...</td>\n",
       "      <td>0</td>\n",
       "    </tr>\n",
       "    <tr>\n",
       "      <th>5</th>\n",
       "      <td>I am using this with a Nook HD+. It works as d...</td>\n",
       "      <td>0</td>\n",
       "    </tr>\n",
       "  </tbody>\n",
       "</table>\n",
       "</div>"
      ],
      "text/plain": [
       "                                          ReviewText  hastags\n",
       "1  I'm a professional OTR truck driver, and I bou...        0\n",
       "2  Well, what can I say.  I've had this unit in m...        0\n",
       "3  Not going to write a long review, even thought...        0\n",
       "4  I've had mine for a year and here's what we go...        0\n",
       "5  I am using this with a Nook HD+. It works as d...        0"
      ]
     },
     "execution_count": 172,
     "metadata": {},
     "output_type": "execute_result"
    }
   ],
   "source": [
    "train['hastags'] = train['ReviewText'].apply(lambda x: len([x for x in str(x).split() if x.startswith('#')]))\n",
    "train[['ReviewText','hastags']].head()"
   ]
  },
  {
   "cell_type": "markdown",
   "metadata": {},
   "source": [
    "Number of Numerics"
   ]
  },
  {
   "cell_type": "code",
   "execution_count": 173,
   "metadata": {},
   "outputs": [
    {
     "data": {
      "text/html": [
       "<div>\n",
       "<style scoped>\n",
       "    .dataframe tbody tr th:only-of-type {\n",
       "        vertical-align: middle;\n",
       "    }\n",
       "\n",
       "    .dataframe tbody tr th {\n",
       "        vertical-align: top;\n",
       "    }\n",
       "\n",
       "    .dataframe thead th {\n",
       "        text-align: right;\n",
       "    }\n",
       "</style>\n",
       "<table border=\"1\" class=\"dataframe\">\n",
       "  <thead>\n",
       "    <tr style=\"text-align: right;\">\n",
       "      <th></th>\n",
       "      <th>ReviewText</th>\n",
       "      <th>numerics</th>\n",
       "    </tr>\n",
       "  </thead>\n",
       "  <tbody>\n",
       "    <tr>\n",
       "      <th>1</th>\n",
       "      <td>I'm a professional OTR truck driver, and I bou...</td>\n",
       "      <td>7</td>\n",
       "    </tr>\n",
       "    <tr>\n",
       "      <th>2</th>\n",
       "      <td>Well, what can I say.  I've had this unit in m...</td>\n",
       "      <td>7</td>\n",
       "    </tr>\n",
       "    <tr>\n",
       "      <th>3</th>\n",
       "      <td>Not going to write a long review, even thought...</td>\n",
       "      <td>6</td>\n",
       "    </tr>\n",
       "    <tr>\n",
       "      <th>4</th>\n",
       "      <td>I've had mine for a year and here's what we go...</td>\n",
       "      <td>1</td>\n",
       "    </tr>\n",
       "    <tr>\n",
       "      <th>5</th>\n",
       "      <td>I am using this with a Nook HD+. It works as d...</td>\n",
       "      <td>0</td>\n",
       "    </tr>\n",
       "  </tbody>\n",
       "</table>\n",
       "</div>"
      ],
      "text/plain": [
       "                                          ReviewText  numerics\n",
       "1  I'm a professional OTR truck driver, and I bou...         7\n",
       "2  Well, what can I say.  I've had this unit in m...         7\n",
       "3  Not going to write a long review, even thought...         6\n",
       "4  I've had mine for a year and here's what we go...         1\n",
       "5  I am using this with a Nook HD+. It works as d...         0"
      ]
     },
     "execution_count": 173,
     "metadata": {},
     "output_type": "execute_result"
    }
   ],
   "source": [
    "train['numerics'] = train['ReviewText'].apply(lambda x: len([x for x in str(x).split() if x.isdigit()]))\n",
    "train[['ReviewText','numerics']].head()"
   ]
  },
  {
   "cell_type": "markdown",
   "metadata": {},
   "source": [
    "Making every review lower case"
   ]
  },
  {
   "cell_type": "code",
   "execution_count": 174,
   "metadata": {},
   "outputs": [
    {
     "data": {
      "text/plain": [
       "1    i'm a professional otr truck driver, and i bou...\n",
       "2    well, what can i say. i've had this unit in my...\n",
       "3    not going to write a long review, even thought...\n",
       "4    i've had mine for a year and here's what we go...\n",
       "5    i am using this with a nook hd+. it works as d...\n",
       "Name: ReviewText, dtype: object"
      ]
     },
     "execution_count": 174,
     "metadata": {},
     "output_type": "execute_result"
    }
   ],
   "source": [
    "train['ReviewText'] = train['ReviewText'].apply(lambda x: \" \".join(x.lower() for x in str(x).split()))\n",
    "train['ReviewText'].head()\n",
    "# Translate here later\n",
    "#translateDiction = pd.read_csv('Contractions.csv')\n",
    "#print(translateDiction)"
   ]
  },
  {
   "cell_type": "markdown",
   "metadata": {},
   "source": [
    "Removing Punctuation"
   ]
  },
  {
   "cell_type": "code",
   "execution_count": 175,
   "metadata": {},
   "outputs": [
    {
     "data": {
      "text/plain": [
       "1    im a professional otr truck driver and i bough...\n",
       "2    well what can i say ive had this unit in my tr...\n",
       "3    not going to write a long review even thought ...\n",
       "4    ive had mine for a year and heres what we got ...\n",
       "5    i am using this with a nook hd it works as des...\n",
       "Name: ReviewText, dtype: object"
      ]
     },
     "execution_count": 175,
     "metadata": {},
     "output_type": "execute_result"
    }
   ],
   "source": [
    "train['ReviewText'] = train['ReviewText'].str.replace('[^\\w\\s]','')\n",
    "train['ReviewText'].head()"
   ]
  },
  {
   "cell_type": "markdown",
   "metadata": {},
   "source": [
    "Removing Stop Words"
   ]
  },
  {
   "cell_type": "code",
   "execution_count": 176,
   "metadata": {},
   "outputs": [
    {
     "data": {
      "text/plain": [
       "1    im professional otr truck driver bought tnd 70...\n",
       "2    well say ive unit truck four days prior garmin...\n",
       "3    going write long review even thought unit dese...\n",
       "4    ive mine year heres got tries route non truck ...\n",
       "5    using nook hd works described hd picture samsu...\n",
       "Name: ReviewText, dtype: object"
      ]
     },
     "execution_count": 176,
     "metadata": {},
     "output_type": "execute_result"
    }
   ],
   "source": [
    "from nltk.corpus import stopwords\n",
    "stop = stopwords.words('english')\n",
    "train['ReviewText'] = train['ReviewText'].apply(lambda x: \" \".join(x for x in str(x).split() if x not in stop))\n",
    "train['ReviewText'].head()"
   ]
  },
  {
   "cell_type": "markdown",
   "metadata": {},
   "source": [
    "Common word removal (Top N, user discretion required)"
   ]
  },
  {
   "cell_type": "code",
   "execution_count": 177,
   "metadata": {},
   "outputs": [],
   "source": [
    "freq = pd.Series(' '.join(train['ReviewText']).split()).value_counts()[:10]"
   ]
  },
  {
   "cell_type": "code",
   "execution_count": 178,
   "metadata": {},
   "outputs": [
    {
     "data": {
      "text/plain": [
       "1    im professional otr truck driver bought tnd 70...\n",
       "2    well say ive unit truck four days prior garmin...\n",
       "3    going write long review even thought unit dese...\n",
       "4    ive mine year heres got tries route non truck ...\n",
       "5    using nook hd works described hd picture samsu...\n",
       "Name: ReviewText, dtype: object"
      ]
     },
     "execution_count": 178,
     "metadata": {},
     "output_type": "execute_result"
    }
   ],
   "source": [
    "freq = list(freq.index)\n",
    "train['ReviewText'] = train['ReviewText'].apply(lambda x: \" \".join(x for x in x.split() if x not in freq))\n",
    "train['ReviewText'].head()"
   ]
  },
  {
   "cell_type": "markdown",
   "metadata": {},
   "source": [
    "Rare Words removal"
   ]
  },
  {
   "cell_type": "code",
   "execution_count": 179,
   "metadata": {},
   "outputs": [],
   "source": [
    "freq = pd.Series(' '.join(train['ReviewText']).split()).value_counts()[-10:]"
   ]
  },
  {
   "cell_type": "code",
   "execution_count": 180,
   "metadata": {},
   "outputs": [
    {
     "data": {
      "text/plain": [
       "1    im professional otr truck driver bought tnd 70...\n",
       "2    well say ive unit truck four days prior garmin...\n",
       "3    going write long review even thought unit dese...\n",
       "4    ive mine year heres got tries route non truck ...\n",
       "5    using nook hd works described hd picture samsu...\n",
       "Name: ReviewText, dtype: object"
      ]
     },
     "execution_count": 180,
     "metadata": {},
     "output_type": "execute_result"
    }
   ],
   "source": [
    "freq = list(freq.index)\n",
    "train['ReviewText'] = train['ReviewText'].apply(lambda x: \" \".join(x for x in x.split() if x not in freq))\n",
    "train['ReviewText'].head()"
   ]
  },
  {
   "cell_type": "markdown",
   "metadata": {},
   "source": [
    "Spelling Correction"
   ]
  },
  {
   "cell_type": "code",
   "execution_count": 181,
   "metadata": {},
   "outputs": [
    {
     "data": {
      "text/plain": [
       "1    in professional or truck driver bought and 700...\n",
       "Name: ReviewText, dtype: object"
      ]
     },
     "execution_count": 181,
     "metadata": {},
     "output_type": "execute_result"
    }
   ],
   "source": [
    "from textblob import TextBlob\n",
    "train['ReviewText'][:1].apply(lambda x: str(TextBlob(x).correct()))"
   ]
  },
  {
   "cell_type": "markdown",
   "metadata": {},
   "source": [
    "Tokenization"
   ]
  },
  {
   "cell_type": "code",
   "execution_count": 182,
   "metadata": {},
   "outputs": [
    {
     "data": {
      "text/plain": [
       "WordList(['going', 'write', 'long', 'review', 'even', 'thought', 'unit', 'deserves', 'ive', 'driven', 'well', '1mil', 'miles', 'done', 'routing', 'pretty', 'know', 'whats', 'fastest', 'shortest', 'using', 'basic', 'garmin', 'past', 'three', 'years', 'gps', 'unit', 'theyll', 'trouble', 'let', 'really', 'excited', 'unit', 'due', 'size', 'features', 'allot', 'grafics', 'screen', 'info', 'thats', 'usefull', 'basic', 'item', 'lacking', 'gps', 'tracking', 'gave', 'unit', 'allot', 'leadway', 'mistakes', 'due', 'fact', 'allot', 'cool', 'stuff', 'ability', 'track', 'route', 'even', 'close', 'basic', 'garmin', 'could', 'due', 'prossesor', 'installed', 'tnd', '700', '10', 'years', 'old', 'example', 'needed', 'make', 'simple', 'route', 'change', 'ie', 'town', 'next', 'street', 'due', 'fact', 'couldnt', 'make', 'turn', 'street', 'blocked', 'take', 'tnd', '700', 'upwards', '45', 'seconds', 'minute', 'half', 'reroute', 'im', 'sitting', 'stop', 'light', 'waiting', 'directions', 'waiting', 'long', 'cars', 'backside', 'didnt', 'make', 'happy', 'problem', 'happened', 'evertime', 'reroute', 'weather', 'simple', 'street', 'change', 'major', 'highway', 'change', 'also', 'time', 'turned', 'unit', 'take', 'twice', 'long', 'boot', 'least', 'dozen', 'times', 'week', 'put', 'wrong', 'roads', 'made', 'wrong', 'turn', 'got', 'self', 'lostie', 'take', 'left', 'xyz', 'street', 'ones', 'drive', 'way', 'turn', 'left', '800', 'yards', 'turn', 'less', '10', 'feet', 'away', 'might', 'think', 'conjested', 'city', 'situation', 'might', 'little', 'mixed', 'country', 'twice', 'put', '126', 'bridges', 'im', '136', 'course', 'made', 'sure', 'truck', 'setting', 'supposed', 'also', 'updated', 'os', 'versionvia', 'rand', 'mcnally', 'expected', 'alot', 'unit', 'got', 'unit', 'field', 'tested', 'people', 'drive', 'allot', 'many', 'route', 'mistakes', 'going', 'back', 'basic', 'garmin', 'isnt', 'complaints', 'three', 'friends', 'bought', 'unit', 'complaints', 'us', 'returned', 'units'])"
      ]
     },
     "execution_count": 182,
     "metadata": {},
     "output_type": "execute_result"
    }
   ],
   "source": [
    "# nltk.download('punkt')\n",
    "\n",
    "TextBlob(train['ReviewText'][3]).words"
   ]
  },
  {
   "cell_type": "markdown",
   "metadata": {},
   "source": [
    "Stemming"
   ]
  },
  {
   "cell_type": "code",
   "execution_count": 183,
   "metadata": {},
   "outputs": [
    {
     "data": {
      "text/plain": [
       "1    im profession otr truck driver bought tnd 700 ...\n",
       "Name: ReviewText, dtype: object"
      ]
     },
     "execution_count": 183,
     "metadata": {},
     "output_type": "execute_result"
    }
   ],
   "source": [
    "from nltk.stem import PorterStemmer\n",
    "st = PorterStemmer()\n",
    "train['ReviewText'][:1].apply(lambda x: \" \".join([st.stem(word) for word in x.split()]))"
   ]
  },
  {
   "cell_type": "markdown",
   "metadata": {},
   "source": [
    "Lemmatization"
   ]
  },
  {
   "cell_type": "code",
   "execution_count": 184,
   "metadata": {},
   "outputs": [
    {
     "data": {
      "text/plain": [
       "1    im professional otr truck driver bought tnd 70...\n",
       "2    well say ive unit truck four day prior garmin ...\n",
       "3    going write long review even thought unit dese...\n",
       "4    ive mine year here got try route non truck rou...\n",
       "5    using nook hd work described hd picture samsun...\n",
       "Name: ReviewText, dtype: object"
      ]
     },
     "execution_count": 184,
     "metadata": {},
     "output_type": "execute_result"
    }
   ],
   "source": [
    "# nltk.download('wordnet')\n",
    "from textblob import Word\n",
    "train['ReviewText'] = train['ReviewText'].apply(lambda x: \" \".join([Word(word).lemmatize() for word in x.split()]))\n",
    "train['ReviewText'].head()"
   ]
  },
  {
   "cell_type": "markdown",
   "metadata": {},
   "source": [
    "Parts of Speech Tagging"
   ]
  },
  {
   "cell_type": "code",
   "execution_count": 185,
   "metadata": {},
   "outputs": [],
   "source": [
    "# nltk.download('averaged_perceptron_tagger')\n",
    "from nltk import word_tokenize, pos_tag, pos_tag_sents\n",
    "texts = train['ReviewText'].tolist()\n",
    "tagged_texts = pos_tag_sents(map(word_tokenize, texts))\n",
    "\n",
    "train['POS'] = tagged_texts"
   ]
  },
  {
   "cell_type": "markdown",
   "metadata": {},
   "source": [
    "Named Entity Recognition"
   ]
  },
  {
   "cell_type": "code",
   "execution_count": 186,
   "metadata": {},
   "outputs": [
    {
     "name": "stdout",
     "output_type": "stream",
     "text": [
      "1    [('im', 'JJ'), ('professional', 'JJ'), ('otr',...\n",
      "2    [('well', 'RB'), ('say', 'VB'), ('ive', 'JJ'),...\n",
      "3    [('going', 'VBG'), ('write', 'RB'), ('long', '...\n",
      "4    [('ive', 'JJ'), ('mine', 'NN'), ('year', 'NN')...\n",
      "5    [('using', 'VBG'), ('nook', 'NN'), ('hd', 'NN'...\n",
      "Name: ner, dtype: object\n"
     ]
    }
   ],
   "source": [
    "# nltk.download('words')\n",
    "from nltk import word_tokenize, pos_tag, ne_chunk\n",
    "a = [0] * len(train['ReviewText'])\n",
    "for i in range(len(train['ReviewText'])):\n",
    "    temp = word_tokenize(str(train.iloc[i,0]))\n",
    "    a[i] = str(pos_tag(temp))\n",
    "\n",
    "temp2 = ne_chunk(a)\n",
    "#len(temp2)\n",
    "train['ner']=ne_chunk(a)\n",
    "print(train['ner'].head())"
   ]
  },
  {
   "cell_type": "markdown",
   "metadata": {},
   "source": [
    "N-Grams"
   ]
  },
  {
   "cell_type": "code",
   "execution_count": 187,
   "metadata": {},
   "outputs": [],
   "source": [
    "train['Ngrams'] = train['ReviewText'].apply(lambda x: TextBlob(x).ngrams(2))"
   ]
  },
  {
   "cell_type": "markdown",
   "metadata": {},
   "source": [
    "Bag of Words"
   ]
  },
  {
   "cell_type": "code",
   "execution_count": 188,
   "metadata": {},
   "outputs": [],
   "source": [
    "from sklearn.feature_extraction.text import CountVectorizer\n",
    "bow = CountVectorizer(max_features=1000, lowercase=True, ngram_range=(1,2),analyzer = \"word\")\n",
    "train_bow = bow.fit_transform(train['ReviewText'])"
   ]
  },
  {
   "cell_type": "code",
   "execution_count": 189,
   "metadata": {},
   "outputs": [],
   "source": [
    "pd.DataFrame(train_bow).to_csv(\"train_bag_of_words.csv\", index = False)"
   ]
  },
  {
   "cell_type": "code",
   "execution_count": 190,
   "metadata": {},
   "outputs": [],
   "source": [
    "train.to_csv(\"train_Features.csv\",index = False)"
   ]
  },
  {
   "cell_type": "code",
   "execution_count": null,
   "metadata": {},
   "outputs": [],
   "source": []
  }
 ],
 "metadata": {
  "kernelspec": {
   "display_name": "Python 3",
   "language": "python",
   "name": "python3"
  },
  "language_info": {
   "codemirror_mode": {
    "name": "ipython",
    "version": 3
   },
   "file_extension": ".py",
   "mimetype": "text/x-python",
   "name": "python",
   "nbconvert_exporter": "python",
   "pygments_lexer": "ipython3",
   "version": "3.6.8"
  }
 },
 "nbformat": 4,
 "nbformat_minor": 2
}
